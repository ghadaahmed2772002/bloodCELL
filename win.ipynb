{
 "cells": [
  {
   "cell_type": "code",
   "execution_count": 1,
   "metadata": {},
   "outputs": [
    {
     "name": "stdout",
     "output_type": "stream",
     "text": [
      "1/1 [==============================] - 0s 165ms/step\n"
     ]
    }
   ],
   "source": [
    "import tkinter as tk\n",
    "from tkinter import filedialog\n",
    "from PIL import Image, ImageTk\n",
    "import numpy as np\n",
    "import tensorflow as tf\n",
    "import cv2\n",
    "from tensorflow.keras.models import load_model\n",
    "\n",
    "# Load pre-trained model\n",
    "model = load_model('NN.h5')\n",
    "\n",
    "# Define class names\n",
    "class_names = ['EOSINOPHIL', 'LYMPHOCYTE', 'MONOCYTE', 'NEUTROPHIL']\n",
    "\n",
    "# Create GUI window\n",
    "window = tk.Tk()\n",
    "window.title('Blood Cell Classification')\n",
    "window.geometry('800x600')\n",
    "\n",
    "\n",
    "# Add image selection functionality\n",
    "def select_func():\n",
    "    global file_path \n",
    "    file_path = filedialog.askopenfilename()\n",
    "    image = Image.open(file_path)\n",
    "    photo = ImageTk.PhotoImage(image)\n",
    "    image_label.configure(image=photo)\n",
    "    image_label.image = photo\n",
    "\n",
    "# Add classification functionality\n",
    "def prid_func():\n",
    "    image = cv2.imread(file_path)\n",
    "    img = cv2.resize(image , (100,100))\n",
    "    img = np.array(img)\n",
    "    img =  np.expand_dims(img, axis=0)\n",
    "    prediction = model.predict(img)\n",
    "    class_index = np.argmax(prediction)\n",
    "    class_name = class_names[class_index]\n",
    "    result_label.configure(text=class_name)\n",
    "\n",
    "# Add project name label\n",
    "classify_label = tk.Label(window, text='Blood Cell Clasfication', font='times 24 bold italic')\n",
    "classify_label.place(x=245, y=50)\n",
    "\n",
    "# Add image display label\n",
    "image_label = tk.Label(window)\n",
    "image_label.place(x=240, y=130)\n",
    "\n",
    "# Add image selection button\n",
    "select_button = tk.Button(window, text='Select Image', font=('Arial', 14), command=select_func)\n",
    "select_button.place(x=200, y=450)\n",
    "\n",
    "# Add image prediction button\n",
    "select_button = tk.Button(window, text='    predict    ', font=('Arial', 14), command=prid_func)\n",
    "select_button.place(x=450, y=450)\n",
    "\n",
    "# Add classification result labels\n",
    "classify_label = tk.Label(window, text='The type of cell is :', font=('Arial', 14))\n",
    "classify_label.place(x=200, y=520)\n",
    "\n",
    "result_label = tk.Label(window, font='times 20 bold')\n",
    "result_label.place(x=370, y=515)\n",
    "\n",
    "window.mainloop()\n"
   ]
  }
 ],
 "metadata": {
  "kernelspec": {
   "display_name": "neural",
   "language": "python",
   "name": "python3"
  },
  "language_info": {
   "codemirror_mode": {
    "name": "ipython",
    "version": 3
   },
   "file_extension": ".py",
   "mimetype": "text/x-python",
   "name": "python",
   "nbconvert_exporter": "python",
   "pygments_lexer": "ipython3",
   "version": "3.8.16"
  },
  "orig_nbformat": 4
 },
 "nbformat": 4,
 "nbformat_minor": 2
}
